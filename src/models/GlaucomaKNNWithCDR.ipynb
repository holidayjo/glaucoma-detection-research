{
 "cells": [
  {
   "cell_type": "code",
   "execution_count": 1,
   "id": "557520f0",
   "metadata": {},
   "outputs": [
    {
     "name": "stdout",
     "output_type": "stream",
     "text": [
      "Results from 20 samples: 10 glaucoma, 10 healthy\n",
      "Features: Mean Neighboring Centroid Distance (X Mask), Mean Neighboring Centroid Distance (T Mask)\n",
      "\n",
      "Confusion Matrix:\n",
      "[[1 3]\n",
      " [1 1]]\n",
      "\n",
      "KNN Accuracy:\n",
      "0.3333333333333333\n"
     ]
    }
   ],
   "source": [
    "import numpy as np\n",
    "import matplotlib.pyplot as plt\n",
    "import pandas as pd\n",
    "from sklearn.model_selection import train_test_split\n",
    "from sklearn.preprocessing import StandardScaler\n",
    "from sklearn.neighbors import KNeighborsClassifier\n",
    "from sklearn.metrics import confusion_matrix, accuracy_score\n",
    "from sklearn.model_selection import cross_val_score\n",
    "import seaborn as sns\n",
    "\n",
    "# Read in the dataset from .csv file\n",
    "dataset = pd.read_csv('GlaucomaDatasetCentroidCDR20Subjects.csv')\n",
    "\n",
    "# Choose the inpedendent variables with X and dependent variable with y\n",
    "X = dataset.iloc[:, [1, 2]].values\n",
    "y = dataset.iloc[:, 4].values\n",
    "\n",
    "# Split the data into 70% training data and 30% testing data\n",
    "X_train, X_test, y_train, y_test = train_test_split(X, y, test_size = 0.3, random_state = 0)\n",
    "\n",
    "# Feature scaling to normalize the data\n",
    "sc = StandardScaler()\n",
    "X_train = sc.fit_transform(X_train)\n",
    "X_test = sc.transform(X_test)\n",
    "\n",
    "# Fitting and evaluating KNN model\n",
    "knn = KNeighborsClassifier(n_neighbors=3)\n",
    "knn.fit(X_train, y_train)\n",
    "\n",
    "# Predict the test set results\n",
    "y_pred = knn.predict(X_test)\n",
    "\n",
    "# Get accuracy from predictions with confusion matrix\n",
    "numGlaucoma = dataset.iloc[:, 4].value_counts()[1]\n",
    "numHealthy = dataset.iloc[:, 4].value_counts()[0]\n",
    "print('Results from ' + str(dataset.shape[0]) + ' samples: ' + str(numGlaucoma) + ' glaucoma, ' + str(numHealthy) + ' healthy')\n",
    "print('Features: Mean Neighboring Centroid Distance (X Mask), Mean Neighboring Centroid Distance (T Mask)')\n",
    "print('\\nConfusion Matrix:')\n",
    "cm = confusion_matrix(y_test, y_pred)\n",
    "print(cm)\n",
    "print()\n",
    "print('KNN Accuracy:')\n",
    "print(accuracy_score(y_test, y_pred))"
   ]
  },
  {
   "cell_type": "code",
   "execution_count": 2,
   "id": "f2e1c3c1",
   "metadata": {},
   "outputs": [
    {
     "name": "stdout",
     "output_type": "stream",
     "text": [
      "Results from 20 samples: 10 glaucoma, 10 healthy\n",
      "Features: Centroid Distance (X Mask), Centroid Distance (T Mask), \n",
      "Cup-to-Disc Ratio (CDR) Vertical Diameter\n",
      "\n",
      "Confusion Matrix:\n",
      "[[3 1]\n",
      " [0 2]]\n",
      "\n",
      "KNN Accuracy:\n",
      "0.8333333333333334\n"
     ]
    }
   ],
   "source": [
    "# Read in the dataset from .csv file\n",
    "dataset = pd.read_csv('GlaucomaDatasetCentroidCDR20Subjects.csv')\n",
    "\n",
    "# Choose the inpedendent variables with X and dependent variable with y\n",
    "X = dataset.iloc[:, [1, 2, 3]].values\n",
    "y = dataset.iloc[:, 4].values\n",
    "\n",
    "# Split the data into 70% training data and 30% testing data\n",
    "X_train, X_test, y_train, y_test = train_test_split(X, y, test_size = 0.3, random_state = 0)\n",
    "\n",
    "# Feature scaling to normalize the data\n",
    "sc = StandardScaler()\n",
    "X_train = sc.fit_transform(X_train)\n",
    "X_test = sc.transform(X_test)\n",
    "\n",
    "# Fitting and evaluating KNN model\n",
    "knn = KNeighborsClassifier(n_neighbors=3)\n",
    "knn.fit(X_train, y_train)\n",
    "\n",
    "# Predict the test set results\n",
    "y_pred = knn.predict(X_test)\n",
    "\n",
    "# Get accuracy from predictions with confusion matrix\n",
    "numGlaucoma = dataset.iloc[:, 4].value_counts()[1]\n",
    "numHealthy = dataset.iloc[:, 4].value_counts()[0]\n",
    "print('Results from ' + str(dataset.shape[0]) + ' samples: ' + str(numGlaucoma) + ' glaucoma, ' + str(numHealthy) + ' healthy')\n",
    "print('Features: Centroid Distance (X Mask), Centroid Distance (T Mask), \\nCup-to-Disc Ratio (CDR) Vertical Diameter')\n",
    "print('\\nConfusion Matrix:')\n",
    "cm = confusion_matrix(y_test, y_pred)\n",
    "print(cm)\n",
    "print()\n",
    "print('KNN Accuracy:')\n",
    "print(accuracy_score(y_test, y_pred))"
   ]
  },
  {
   "cell_type": "code",
   "execution_count": null,
   "id": "a7561835",
   "metadata": {},
   "outputs": [],
   "source": []
  }
 ],
 "metadata": {
  "kernelspec": {
   "display_name": "Python 3 (ipykernel)",
   "language": "python",
   "name": "python3"
  },
  "language_info": {
   "codemirror_mode": {
    "name": "ipython",
    "version": 3
   },
   "file_extension": ".py",
   "mimetype": "text/x-python",
   "name": "python",
   "nbconvert_exporter": "python",
   "pygments_lexer": "ipython3",
   "version": "3.9.6"
  }
 },
 "nbformat": 4,
 "nbformat_minor": 5
}
