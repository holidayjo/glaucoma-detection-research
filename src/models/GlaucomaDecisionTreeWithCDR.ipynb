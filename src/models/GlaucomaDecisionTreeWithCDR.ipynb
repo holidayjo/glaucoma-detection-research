{
 "cells": [
  {
   "cell_type": "code",
   "execution_count": 1,
   "id": "fb533cde",
   "metadata": {},
   "outputs": [
    {
     "name": "stdout",
     "output_type": "stream",
     "text": [
      "Results from 20 samples: 10 glaucoma, 10 healthy\n",
      "Features: Centroid Distance (X Mask), Centroid Distance (T Mask)\n",
      "\n",
      "Confusion Matrix:\n",
      "[[1 3]\n",
      " [1 1]]\n",
      "\n",
      "Decision Tree Accuracy:\n",
      "0.3333333333333333\n"
     ]
    }
   ],
   "source": [
    "import numpy as np\n",
    "import matplotlib.pyplot as plt\n",
    "import pandas as pd\n",
    "from sklearn.model_selection import train_test_split\n",
    "from sklearn.preprocessing import StandardScaler\n",
    "from sklearn.tree import DecisionTreeClassifier\n",
    "from sklearn.metrics import confusion_matrix, accuracy_score\n",
    "from sklearn.model_selection import cross_val_score\n",
    "import seaborn as sns\n",
    "\n",
    "# Read in the dataset from .csv file\n",
    "dataset = pd.read_csv('GlaucomaDatasetCentroidCDR20Subjects.csv')\n",
    "\n",
    "# Choose the inpedendent variables with X and dependent variable with y\n",
    "X = dataset.iloc[:, [1, 2]].values\n",
    "y = dataset.iloc[:, 4].values\n",
    "\n",
    "# Split the data into 70% training data and 30% testing data\n",
    "X_train, X_test, y_train, y_test = train_test_split(X, y, test_size = 0.3, random_state = 0)\n",
    "\n",
    "# Feature scaling to normalize the data\n",
    "sc = StandardScaler()\n",
    "X_train = sc.fit_transform(X_train)\n",
    "X_test = sc.transform(X_test)\n",
    "\n",
    "# Train Decision Tree Classifer\n",
    "clf = DecisionTreeClassifier()\n",
    "clf = clf.fit(X_train,y_train)\n",
    "\n",
    "#Predict the response for test dataset\n",
    "y_pred = clf.predict(X_test)\n",
    "\n",
    "# Get accuracy from predictions with confusion matrix\n",
    "numGlaucoma = dataset.iloc[:, 4].value_counts()[1]\n",
    "numHealthy = dataset.iloc[:, 4].value_counts()[0]\n",
    "print('Results from ' + str(dataset.shape[0]) + ' samples: ' + str(numGlaucoma) + ' glaucoma, ' + str(numHealthy) + ' healthy')\n",
    "print('Features: Centroid Distance (X Mask), Centroid Distance (T Mask)')\n",
    "print('\\nConfusion Matrix:')\n",
    "cm = confusion_matrix(y_test, y_pred)\n",
    "print(cm)\n",
    "print()\n",
    "print('Decision Tree Accuracy:')\n",
    "print(accuracy_score(y_test, y_pred))"
   ]
  },
  {
   "cell_type": "code",
   "execution_count": 2,
   "id": "2707d0a2",
   "metadata": {},
   "outputs": [
    {
     "name": "stdout",
     "output_type": "stream",
     "text": [
      "Results from 20 samples: 10 glaucoma, 10 healthy\n",
      "Features: Centroid Distance (X Mask), Centroid Distance (T Mask), \n",
      "Cup-to-Disc Ratio (CDR) Vertical Diameter\n",
      "\n",
      "Confusion Matrix:\n",
      "[[4 0]\n",
      " [0 2]]\n",
      "\n",
      "Decision Tree Accuracy:\n",
      "1.0\n"
     ]
    }
   ],
   "source": [
    "# Read in the dataset from .csv file\n",
    "dataset = pd.read_csv('GlaucomaDatasetCentroidCDR20Subjects.csv')\n",
    "\n",
    "# Choose the inpedendent variables with X and dependent variable with y\n",
    "X = dataset.iloc[:, [1, 2, 3]].values\n",
    "y = dataset.iloc[:, 4].values\n",
    "\n",
    "# Split the data into 70% training data and 30% testing data\n",
    "X_train, X_test, y_train, y_test = train_test_split(X, y, test_size = 0.3, random_state = 0)\n",
    "\n",
    "# Feature scaling to normalize the data\n",
    "sc = StandardScaler()\n",
    "X_train = sc.fit_transform(X_train)\n",
    "X_test = sc.transform(X_test)\n",
    "\n",
    "# Train Decision Tree Classifer\n",
    "clf = DecisionTreeClassifier()\n",
    "clf = clf.fit(X_train,y_train)\n",
    "\n",
    "#Predict the response for test dataset\n",
    "y_pred = clf.predict(X_test)\n",
    "\n",
    "# Get accuracy from predictions with confusion matrix\n",
    "numGlaucoma = dataset.iloc[:, 4].value_counts()[1]\n",
    "numHealthy = dataset.iloc[:, 4].value_counts()[0]\n",
    "print('Results from ' + str(dataset.shape[0]) + ' samples: ' + str(numGlaucoma) + ' glaucoma, ' + str(numHealthy) + ' healthy')\n",
    "print('Features: Centroid Distance (X Mask), Centroid Distance (T Mask), \\nCup-to-Disc Ratio (CDR) Vertical Diameter')\n",
    "print('\\nConfusion Matrix:')\n",
    "cm = confusion_matrix(y_test, y_pred)\n",
    "print(cm)\n",
    "print()\n",
    "print('Decision Tree Accuracy:')\n",
    "print(accuracy_score(y_test, y_pred))"
   ]
  },
  {
   "cell_type": "code",
   "execution_count": null,
   "id": "62945c8d",
   "metadata": {},
   "outputs": [],
   "source": []
  }
 ],
 "metadata": {
  "kernelspec": {
   "display_name": "Python 3 (ipykernel)",
   "language": "python",
   "name": "python3"
  },
  "language_info": {
   "codemirror_mode": {
    "name": "ipython",
    "version": 3
   },
   "file_extension": ".py",
   "mimetype": "text/x-python",
   "name": "python",
   "nbconvert_exporter": "python",
   "pygments_lexer": "ipython3",
   "version": "3.9.6"
  }
 },
 "nbformat": 4,
 "nbformat_minor": 5
}
