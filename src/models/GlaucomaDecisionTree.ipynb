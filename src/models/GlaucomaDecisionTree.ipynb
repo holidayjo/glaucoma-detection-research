{
 "cells": [
  {
   "cell_type": "code",
   "execution_count": 5,
   "id": "b7357de6",
   "metadata": {},
   "outputs": [
    {
     "name": "stdout",
     "output_type": "stream",
     "text": [
      "Decision Tree Results:\n",
      "\n",
      "Confusion Matrix:\n",
      "[[4 0]\n",
      " [0 2]]\n",
      "\n",
      "Classification Accuracy:\n",
      "1.0\n"
     ]
    }
   ],
   "source": [
    "import numpy as np\n",
    "import matplotlib.pyplot as plt\n",
    "import pandas as pd\n",
    "from sklearn.model_selection import train_test_split\n",
    "from sklearn.preprocessing import StandardScaler\n",
    "from sklearn.tree import DecisionTreeClassifier\n",
    "from sklearn.metrics import confusion_matrix, accuracy_score\n",
    "from sklearn.model_selection import cross_val_score\n",
    "import seaborn as sns\n",
    "\n",
    "# Read in the dataset from .csv file\n",
    "dataset = pd.read_csv('GlaucomaMLDataset20Subjects.csv')\n",
    "\n",
    "# Choose the inpedendent variables with X and dependent variable with y\n",
    "X = dataset.iloc[:, [1, 2, 3, 5]].values\n",
    "y = dataset.iloc[:, 6].values\n",
    "\n",
    "# Split the data into 70% training data and 30% testing data\n",
    "X_train, X_test, y_train, y_test = train_test_split(X, y, test_size = 0.3, random_state = 0)\n",
    "\n",
    "# Feature scaling to normalize the data\n",
    "sc = StandardScaler()\n",
    "X_train = sc.fit_transform(X_train)\n",
    "X_test = sc.transform(X_test)\n",
    "\n",
    "# Train Decision Tree Classifer\n",
    "clf = DecisionTreeClassifier()\n",
    "clf = clf.fit(X_train,y_train)\n",
    "\n",
    "#Predict the response for test dataset\n",
    "y_pred = clf.predict(X_test)\n",
    "\n",
    "# Get accuracy from predictions with confusion matrix\n",
    "numGlaucoma = dataset.iloc[:, 6].value_counts()[1]\n",
    "numHealthy = dataset.iloc[:, 6].value_counts()[0]\n",
    "# print('Results from ' + str(dataset.shape[0]) + ' samples: ' + str(numGlaucoma) + ' glaucoma, ' + str(numHealthy) + ' healthy')\n",
    "print('Decision Tree Results:')\n",
    "print('\\nConfusion Matrix:')\n",
    "cm = confusion_matrix(y_test, y_pred)\n",
    "print(cm)\n",
    "print()\n",
    "print('Classification Accuracy:')\n",
    "print(round(accuracy_score(y_test, y_pred), 3))"
   ]
  },
  {
   "cell_type": "code",
   "execution_count": null,
   "id": "80a0b9de",
   "metadata": {},
   "outputs": [],
   "source": []
  }
 ],
 "metadata": {
  "kernelspec": {
   "display_name": "Python 3 (ipykernel)",
   "language": "python",
   "name": "python3"
  },
  "language_info": {
   "codemirror_mode": {
    "name": "ipython",
    "version": 3
   },
   "file_extension": ".py",
   "mimetype": "text/x-python",
   "name": "python",
   "nbconvert_exporter": "python",
   "pygments_lexer": "ipython3",
   "version": "3.9.6"
  }
 },
 "nbformat": 4,
 "nbformat_minor": 5
}
