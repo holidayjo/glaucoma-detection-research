{
 "cells": [
  {
   "cell_type": "code",
   "execution_count": 5,
   "id": "9dddd43d",
   "metadata": {},
   "outputs": [
    {
     "name": "stdout",
     "output_type": "stream",
     "text": [
      "Results from 20 samples: 10 glaucoma, 10 healthy\n",
      "Features: Centroid Distance (X Mask), Centroid Distance (T Mask)\n",
      "\n",
      "Confusion Matrix:\n",
      "[[1 3]\n",
      " [1 1]]\n",
      "\n",
      "SVM Accuracy:\n",
      "0.3333333333333333\n"
     ]
    }
   ],
   "source": [
    "import numpy as np\n",
    "import matplotlib.pyplot as plt\n",
    "import pandas as pd\n",
    "from sklearn.model_selection import train_test_split\n",
    "from sklearn.preprocessing import StandardScaler\n",
    "from sklearn.svm import SVC\n",
    "from sklearn.metrics import confusion_matrix, accuracy_score\n",
    "\n",
    "# Read in the dataset from .csv file\n",
    "dataset = pd.read_csv('GlaucomaDatasetCentroidCDR20Subjects.csv')\n",
    "\n",
    "# Choose the inpedendent variables with X and dependent variable with y\n",
    "X = dataset.iloc[:, [1, 2]].values\n",
    "y = dataset.iloc[:, 4].values\n",
    "\n",
    "# Split the data into 70% training data and 30% testing data\n",
    "X_train, X_test, y_train, y_test = train_test_split(X, y, test_size = 0.3, random_state = 0)\n",
    "\n",
    "# Feature scaling to normalize the data\n",
    "sc = StandardScaler()\n",
    "X_train = sc.fit_transform(X_train)\n",
    "X_test = sc.transform(X_test)\n",
    "\n",
    "# Build Kernel SVM Model (rbf = non-linear classification)\n",
    "classifier = SVC(kernel = 'rbf', random_state = 0)\n",
    "classifier.fit(X_train, y_train)\n",
    "\n",
    "# Predict the test set results\n",
    "y_pred = classifier.predict(X_test)\n",
    "\n",
    "# Get accuracy from predictions with confusion matrix\n",
    "numGlaucoma = dataset.iloc[:, 4].value_counts()[1]\n",
    "numHealthy = dataset.iloc[:, 4].value_counts()[0]\n",
    "print('Results from ' + str(dataset.shape[0]) + ' samples: ' + str(numGlaucoma) + ' glaucoma, ' + str(numHealthy) + ' healthy')\n",
    "print('Features: Centroid Distance (X Mask), Centroid Distance (T Mask)')\n",
    "print('\\nConfusion Matrix:')\n",
    "cm = confusion_matrix(y_test, y_pred)\n",
    "print(cm)\n",
    "print()\n",
    "print('SVM Accuracy:')\n",
    "print(accuracy_score(y_test, y_pred))"
   ]
  },
  {
   "cell_type": "code",
   "execution_count": null,
   "id": "65957aab",
   "metadata": {},
   "outputs": [
    {
     "ename": "",
     "evalue": "",
     "output_type": "error",
     "traceback": [
      "\u001b[1;31mRunning cells with '/usr/bin/python3' requires the ipykernel package.\n",
      "\u001b[1;31mRun the following command to install 'ipykernel' into the Python environment. \n",
      "\u001b[1;31mCommand: '/usr/bin/python3 -m pip install ipykernel -U --user --force-reinstall'"
     ]
    }
   ],
   "source": [
    "# Read in the dataset from .csv file\n",
    "dataset = pd.read_csv('GlaucomaDatasetCentroidCDR20Subjects.csv')\n",
    "\n",
    "# Choose the inpedendent variables with X and dependent variable with y\n",
    "X = dataset.iloc[:, [1, 2, 3]].values\n",
    "y = dataset.iloc[:, 4].values\n",
    "\n",
    "# Split the data into 70% training data and 30% testing data\n",
    "X_train, X_test, y_train, y_test = train_test_split(X, y, test_size = 0.3, random_state = 0)\n",
    "\n",
    "# Feature scaling to normalize the data\n",
    "sc = StandardScaler()\n",
    "X_train = sc.fit_transform(X_train)\n",
    "X_test = sc.transform(X_test)\n",
    "\n",
    "# Build Kernel SVM Model (rbf = non-linear classification)\n",
    "classifier = SVC(kernel = 'rbf', random_state = 0)\n",
    "classifier.fit(X_train, y_train)\n",
    "\n",
    "# Predict the test set results\n",
    "y_pred = classifier.predict(X_test)\n",
    "\n",
    "# Get accuracy from predictions with confusion matrix\n",
    "numGlaucoma = dataset.iloc[:, 4].value_counts()[1]\n",
    "numHealthy = dataset.iloc[:, 4].value_counts()[0]\n",
    "print('Results from ' + str(dataset.shape[0]) + ' samples: ' + str(numGlaucoma) + ' glaucoma, ' + str(numHealthy) + ' healthy')\n",
    "print('Features: Centroid Distance (X Mask), Centroid Distance (T Mask), \\nCup-to-Disc Ratio (CDR) Vertical Diameter')\n",
    "print('\\nConfusion Matrix:')\n",
    "cm = confusion_matrix(y_test, y_pred)\n",
    "print(cm)\n",
    "print()\n",
    "print('SVM Accuracy:')\n",
    "print(accuracy_score(y_test, y_pred))"
   ]
  },
  {
   "cell_type": "code",
   "execution_count": null,
   "id": "6df99e4a",
   "metadata": {},
   "outputs": [],
   "source": [
    "from matplotlib.colors import ListedColormap\n",
    "\n",
    "X_set, y_set = X_test, y_test\n",
    "X1, X2 = np.meshgrid(np.arange(start = X_set[:, 0].min() - 1, stop = X_set[:, 0].max() + 1, step = 0.01),\n",
    "                     np.arange(start = X_set[:, 1].min() - 1, stop = X_set[:, 1].max() + 1, step = 0.01))\n",
    "plt.contourf(X1, X2, classifier.predict(np.array([X1.ravel(), X2.ravel()]).T).reshape(X1.shape),\n",
    "             alpha = 0.75, cmap = ListedColormap(('red', 'green')))\n",
    "plt.xlim(X1.min(), X1.max())\n",
    "plt.ylim(X2.min(), X2.max())\n",
    "for i, j in enumerate(np.unique(y_set)):\n",
    "    plt.scatter(X_set[y_set == j, 0], X_set[y_set == j, 1],\n",
    "                c = ListedColormap(('red', 'green'))(i), label = j)\n",
    "plt.title('SVM (Test set)')\n",
    "plt.xlabel('Mean Centroid Distance (T Mask)')\n",
    "plt.ylabel('Cup-to-Disc Ratio (CDR) Vertical Diameter')\n",
    "plt.legend()\n",
    "plt.show()"
   ]
  }
 ],
 "metadata": {
  "kernelspec": {
   "display_name": "Python 3 (ipykernel)",
   "language": "python",
   "name": "python3"
  },
  "language_info": {
   "codemirror_mode": {
    "name": "ipython",
    "version": 3
   },
   "file_extension": ".py",
   "mimetype": "text/x-python",
   "name": "python",
   "nbconvert_exporter": "python",
   "pygments_lexer": "ipython3",
   "version": "3.9.6"
  }
 },
 "nbformat": 4,
 "nbformat_minor": 5
}
