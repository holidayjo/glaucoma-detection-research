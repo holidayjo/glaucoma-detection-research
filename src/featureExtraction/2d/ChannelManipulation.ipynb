{
 "cells": [
  {
   "cell_type": "code",
   "execution_count": null,
   "id": "02f81512",
   "metadata": {},
   "outputs": [],
   "source": []
  },
  {
   "cell_type": "code",
   "execution_count": null,
   "id": "a813aae5",
   "metadata": {
    "scrolled": false
   },
   "outputs": [
    {
     "name": "stderr",
     "output_type": "stream",
     "text": [
      "/var/folders/vc/mm20ljdj4hx70_c_bgr3q0540000gn/T/ipykernel_64857/1135427255.py:17: MatplotlibDeprecationWarning: Auto-removal of overlapping axes is deprecated since 3.6 and will be removed two minor releases later; explicitly call ax.remove() as needed.\n",
      "  plt.subplot(12, 3, 1)\n",
      "/var/folders/vc/mm20ljdj4hx70_c_bgr3q0540000gn/T/ipykernel_64857/1135427255.py:25: MatplotlibDeprecationWarning: Auto-removal of overlapping axes is deprecated since 3.6 and will be removed two minor releases later; explicitly call ax.remove() as needed.\n",
      "  plt.subplot(18, 3, 4)\n"
     ]
    }
   ],
   "source": [
    "from skimage.color import rgb2gray\n",
    "import matplotlib.pyplot as plt\n",
    "from skimage import io\n",
    "from skimage import filters\n",
    "from skimage import morphology\n",
    "from skimage import exposure\n",
    "from skimage import transform\n",
    "from skimage import img_as_float\n",
    "import numpy as np\n",
    "import cv2\n",
    "\n",
    "plt.figure(figsize=(10, 60))\n",
    "\n",
    "img = io.imread(\"diseased5.png\")\n",
    "img = transform.resize(img, (400, 400))\n",
    "io.imshow(img)\n",
    "plt.subplot(12, 3, 1)\n",
    "\n",
    "# Display sample image\n",
    "plt.title(\"Input Image\")\n",
    "plt.imshow(img)\n",
    "\n",
    "# Extract channels from Image\n",
    "blueChannel, greenChannel, redChannel = cv2.split(cv2.cvtColor(np.float32(img), cv2.COLOR_BGR2RGB))\n",
    "plt.subplot(18, 3, 4)\n",
    "plt.title(\"(Red Channel\")\n",
    "plt.imshow(redChannel)\n",
    "plt.subplot(18, 3, 5)\n",
    "plt.title(\"Blue Channel\")\n",
    "plt.imshow(blueChannel)\n",
    "plt.subplot(18, 3, 6)\n",
    "plt.title(\"Green Channel\")\n",
    "plt.imshow(greenChannel)\n",
    "\n",
    "\n",
    "# Inverse red channel\n",
    "invertedRedChannel = (255 - redChannel) / 255\n",
    "plt.subplot(18, 3, 7)\n",
    "plt.title(\"Inverted Red Channel\")\n",
    "plt.imshow(invertedRedChannel)\n",
    "\n",
    "# Equalize and denoise both red channel, original image\n",
    "gray_img = np.float32(rgb2gray(img))\n",
    "plt.subplot(18, 3, 8)\n",
    "plt.title(\"Monochrome\")\n",
    "plt.imshow(gray_img, cmap=\"gray\")\n",
    "\n",
    "equalized_img = exposure.equalize_adapthist(gray_img)\n",
    "denoised_img = cv2.medianBlur(np.float32(equalized_img), 3)\n",
    "equalized_red = exposure.equalize_adapthist(invertedRedChannel)\n",
    "denoised_red = cv2.medianBlur(np.float32(equalized_red), 5)\n",
    "\n",
    "# Monochrome conversion / Threshold\n",
    "thresh_b = filters.threshold_isodata(denoised_red)\n",
    "thresh_v = filters.threshold_isodata(denoised_img)\n",
    "border = denoised_red > thresh_b\n",
    "vessels = denoised_img > thresh_v\n",
    "plt.subplot(18, 3, 10)\n",
    "plt.title(\"(4.1) Red Channel Threshold\")\n",
    "plt.imshow(border, cmap=\"gray\")\n",
    "plt.subplot(18, 3, 11)\n",
    "plt.title(\"(4.2) Green Channel Threshold\")\n",
    "plt.imshow(vessels, cmap=\"gray\")\n",
    "\n",
    "# Combination\n",
    "borderMask = img_as_float(border.copy())\n",
    "borderMask[vessels] = 1\n",
    "plt.subplot(18, 3, 13)\n",
    "plt.title(\"(5) Border Mask\")\n",
    "plt.imshow(borderMask, cmap=\"gray\")\n",
    "\n",
    "# plt.tight_layout()"
   ]
  },
  {
   "cell_type": "code",
   "execution_count": null,
   "id": "2b8e9c78",
   "metadata": {},
   "outputs": [],
   "source": []
  }
 ],
 "metadata": {
  "kernelspec": {
   "display_name": "Python 3 (ipykernel)",
   "language": "python",
   "name": "python3"
  },
  "language_info": {
   "codemirror_mode": {
    "name": "ipython",
    "version": 3
   },
   "file_extension": ".py",
   "mimetype": "text/x-python",
   "name": "python",
   "nbconvert_exporter": "python",
   "pygments_lexer": "ipython3",
   "version": "3.9.6"
  }
 },
 "nbformat": 4,
 "nbformat_minor": 5
}
