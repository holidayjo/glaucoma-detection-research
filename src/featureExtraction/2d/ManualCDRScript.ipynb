{
 "cells": [
  {
   "cell_type": "code",
   "execution_count": 2,
   "id": "c93a9086",
   "metadata": {},
   "outputs": [
    {
     "name": "stdout",
     "output_type": "stream",
     "text": [
      "Cup to Disc Ratio Using Vertical Diameters of OD and OC\n",
      "\n",
      "Healthy Ratios:\n",
      "[0.512, 0.408, 0.406, 0.509, 0.429, 0.352, 0.411, 0.296, 0.315, 0.241]\n",
      "\n",
      "Diseased Ratios:\n",
      "[0.766, 0.621, 0.662, 0.584, 0.822, 0.654, 0.656, 0.554, 0.612, 0.848]\n"
     ]
    }
   ],
   "source": [
    "def findCDR(ODBottom, ODTop, OCBottom, OCTop):\n",
    "    OD = ODBottom - ODTop\n",
    "    OC = OCBottom - OCTop\n",
    "    return (OC / OD)\n",
    "\n",
    "# diseased = [[365, 40, 325, 70],\n",
    "#             [360, 37, 302, 99],\n",
    "#             [384, 23, 270, 58],\n",
    "#             [368, 50, 261, 90],\n",
    "#             [370, 49, 320, 105],\n",
    "#             [356, 48, 291, 113],\n",
    "#             [344, 49, 287, 91],\n",
    "#             [339, 62, 292, 95],\n",
    "#             [339, 54, 286, 97],\n",
    "#             [357, 48, 300, 104],]\n",
    "\n",
    "# healthy = [[370, 55, 253, 145],\n",
    "#             [354, 63, 256, 132],\n",
    "#             [346, 70, 270, 138],\n",
    "#             [365, 47, 261, 122],\n",
    "#             [354, 52, 252, 112],\n",
    "#             [361, 42, 248, 124],\n",
    "#             [373, 45, 278, 148],\n",
    "#             [368, 46, 280, 132],\n",
    "#             [364, 44, 261, 144],\n",
    "#             [376, 42, 250, 129],]\n",
    "\n",
    "diseased = [[384, 46, 345, 86],\n",
    "            [382, 31, 306, 88],\n",
    "            [369, 38, 323, 104],\n",
    "            [377, 36, 294, 95],\n",
    "            [356, 47, 337, 83],\n",
    "            [381, 23, 312, 78],\n",
    "            [398, 29, 319, 77],\n",
    "            [374, 31, 298, 108],\n",
    "            [373, 48, 303, 104],\n",
    "            [386, 38, 354, 59],]\n",
    "\n",
    "healthy = [[372, 38, 289, 118],\n",
    "            [362, 48, 251, 123],\n",
    "            [359, 39, 274, 144],\n",
    "            [382, 30, 295, 116],\n",
    "            [390, 38, 275, 124],\n",
    "            [371, 39, 254, 137],\n",
    "            [373, 37, 279, 141],\n",
    "            [360, 39, 232, 137],\n",
    "            [380, 40, 255, 148],\n",
    "            [356, 41, 240, 164],]\n",
    "\n",
    "healthyResults = []\n",
    "diseasedResults = []\n",
    "\n",
    "for x in diseased:\n",
    "    diseasedResults.append(round(findCDR(x[0], x[1], x[2], x[3]), 3))\n",
    "    \n",
    "for x in healthy:\n",
    "    healthyResults.append(round(findCDR(x[0], x[1], x[2], x[3]), 3))\n",
    "    \n",
    "# healthyResults.sort()\n",
    "# diseasedResults.sort()\n",
    "\n",
    "print(\"Cup to Disc Ratio Using Vertical Diameters of OD and OC\\n\")\n",
    "print(\"Healthy Ratios:\")\n",
    "print(healthyResults)\n",
    "print()\n",
    "print(\"Diseased Ratios:\")\n",
    "print(diseasedResults)"
   ]
  },
  {
   "cell_type": "code",
   "execution_count": null,
   "id": "bfab7fbb",
   "metadata": {},
   "outputs": [],
   "source": []
  }
 ],
 "metadata": {
  "kernelspec": {
   "display_name": "Python 3 (ipykernel)",
   "language": "python",
   "name": "python3"
  },
  "language_info": {
   "codemirror_mode": {
    "name": "ipython",
    "version": 3
   },
   "file_extension": ".py",
   "mimetype": "text/x-python",
   "name": "python",
   "nbconvert_exporter": "python",
   "pygments_lexer": "ipython3",
   "version": "3.9.6"
  }
 },
 "nbformat": 4,
 "nbformat_minor": 5
}
