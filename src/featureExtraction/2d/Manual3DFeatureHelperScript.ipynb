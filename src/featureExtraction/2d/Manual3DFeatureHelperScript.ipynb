{
 "cells": [
  {
   "cell_type": "code",
   "execution_count": 2,
   "id": "fc2720c2",
   "metadata": {},
   "outputs": [
    {
     "name": "stdout",
     "output_type": "stream",
     "text": [
      "Glaucoma Height-to-Depth Ratios: \n",
      "[1.449, 1.144, 0.928, 0.884, 1.235, 1.071, 0.834, 0.518, 0.918, 1.022]\n",
      "\n",
      "Healthy Height-to-Depth Ratios: \n",
      "[1.249, 1.034, 0.494, 0.763, 0.985, 0.832, 0.783, 1.437, 1.291, 0.451]\n",
      "\n",
      "Glaucoma Width-to-Depth Ratios: \n",
      "[1.282, 0.824, 0.652, 1.392, 1.045, 0.728, 0.908, 0.431, 0.52, 1.468]\n",
      "\n",
      "Healthy Width-to-Depth Ratios: \n",
      "[0.981, 1.362, 0.493, 0.654, 0.693, 0.565, 0.571, 0.945, 0.74, 0.275]\n",
      "\n"
     ]
    }
   ],
   "source": [
    "# format -> [ [ height, depth ], ... ]\n",
    "glaucomaHeightDepthData = [[291.75, 201.304], [900.656, 786.997], [303.07, 326.626], [290.557, 328.728], [705.283, 571.039],\n",
    "                           [115.616, 107.932], [489.359, 586.954], [58.649, 113.148], [129.081, 140.665], [160.127, 156.68]]\n",
    "healthyHeightDepthData = [[248.611, 199.073], [205.079, 198.318], [234.533, 475.187], [434.073, 568.747], [600.792, 610.058],\n",
    "                          [124.315, 149.339], [311.799, 398.25], [443.807, 308.827], [2.481, 1.922], [225.071, 498.97]]\n",
    "\n",
    "# format -> [ [ width, depth ], ... ]\n",
    "glaucomaWidthDepthData = [[258.016, 201.304], [648.587, 786.997], [212.975, 326.626], [457.533, 328.728], [596.515, 571.039],\n",
    "                          [78.601, 107.932], [532.889, 586.954], [48.725, 113.148], [73.095, 140.665], [230.075, 156.68]]\n",
    "healthyWidthDepthData = [[195.261, 199.073], [270.133, 198.318], [234.472, 475.187], [371.915, 568.747], [422.726, 610.058],\n",
    "                         [84.363, 149.339], [227.559, 398.25], [291.97, 308.827], [1.423, 1.922], [137.464, 498.97]]\n",
    "\n",
    "def heightToDepthCalc(height, depth):\n",
    "     return round((height / depth), 3)\n",
    "\n",
    "def widthToDepthCalc(width, depth):\n",
    "     return round((width / depth), 3)\n",
    "\n",
    "glaucomaHeightToDepthRatios = []\n",
    "for g in glaucomaHeightDepthData:\n",
    "    glaucomaHeightToDepthRatios.append(heightToDepthCalc(g[0], g[1]))\n",
    "# glaucomaHeightToDepthRatios.sort()\n",
    "    \n",
    "healthyHeightToDepthRatios = []\n",
    "for h in healthyHeightDepthData:\n",
    "    healthyHeightToDepthRatios.append(heightToDepthCalc(h[0], h[1]))\n",
    "# healthyHeightToDepthRatios.sort()\n",
    "    \n",
    "glaucomaWidthToDepthRatios = []\n",
    "for g in glaucomaWidthDepthData:\n",
    "    glaucomaWidthToDepthRatios.append(widthToDepthCalc(g[0], g[1]))\n",
    "# glaucomaWidthToDepthRatios.sort()\n",
    "    \n",
    "healthyWidthToDepthRatios = []\n",
    "for h in healthyWidthDepthData:\n",
    "    healthyWidthToDepthRatios.append(widthToDepthCalc(h[0], h[1]))\n",
    "# healthyWidthToDepthRatios.sort()\n",
    "    \n",
    "print('Glaucoma Height-to-Depth Ratios: ')\n",
    "print(glaucomaHeightToDepthRatios)\n",
    "print()\n",
    "\n",
    "print('Healthy Height-to-Depth Ratios: ')\n",
    "print(healthyHeightToDepthRatios)\n",
    "print()\n",
    "\n",
    "print('Glaucoma Width-to-Depth Ratios: ')\n",
    "print(glaucomaWidthToDepthRatios)\n",
    "print()\n",
    "\n",
    "print('Healthy Width-to-Depth Ratios: ')\n",
    "print(healthyWidthToDepthRatios)\n",
    "print()"
   ]
  },
  {
   "cell_type": "code",
   "execution_count": null,
   "id": "fde0d45e",
   "metadata": {},
   "outputs": [],
   "source": []
  }
 ],
 "metadata": {
  "kernelspec": {
   "display_name": "Python 3 (ipykernel)",
   "language": "python",
   "name": "python3"
  },
  "language_info": {
   "codemirror_mode": {
    "name": "ipython",
    "version": 3
   },
   "file_extension": ".py",
   "mimetype": "text/x-python",
   "name": "python",
   "nbconvert_exporter": "python",
   "pygments_lexer": "ipython3",
   "version": "3.9.6"
  }
 },
 "nbformat": 4,
 "nbformat_minor": 5
}
