{
 "cells": [
  {
   "cell_type": "code",
   "execution_count": 3,
   "id": "8f7fc5c7-8220-424a-ab46-20379177d8fd",
   "metadata": {},
   "outputs": [
    {
     "name": "stdout",
     "output_type": "stream",
     "text": [
      "Data Set\n",
      "input data: \n",
      "[[8.71698000e-01 1.46448005e+02 1.83313731e+02 ... 9.54000000e+02\n",
      "  1.90000000e+03 2.66747865e+06]\n",
      " [6.45390000e-01 1.57861451e+02 1.63670148e+02 ... 1.07200000e+03\n",
      "  2.11600000e+03 5.43779044e+06]\n",
      " [6.57061000e-01 1.76575610e+02 1.95382786e+02 ... 9.70000000e+02\n",
      "  1.93600000e+03 2.70609607e+06]\n",
      " ...\n",
      " [1.40351000e-01 1.45207886e+02 1.60345642e+02 ... 1.23700000e+03\n",
      "  2.47200000e+03 3.32382887e+04]\n",
      " [3.02041000e-01 1.50352078e+02 1.59484130e+02 ... 5.57000000e+02\n",
      "  1.08400000e+03 3.54011806e+06]\n",
      " [2.15190000e-01 1.69988194e+02 1.80070921e+02 ... 2.48700000e+03\n",
      "  4.99200000e+03 1.04951005e+05]]\n",
      "output data: \n",
      "[1 1 1 1 1 1 1 1 1 1 1 1 1 1 1 1 1 1 1 1 1 1 1 1 1 1 1 1 1 1 1 1 1 1 1 1 1\n",
      " 1 1 1 1 1 1 1 1 1 1 1 1 1 1 1 1 1 1 1 1 1 1 1 1 1 1 1 1 1 1 1 1 1 1 1 1 1\n",
      " 1 1 1 1 1 1 1 1 1 1 1 1 1 1 1 1 1 1 1 1 1 1 1 1 1 1 1 1 1 1 1 1 1 1 1 1 1\n",
      " 1 1 1 1 1 1 1 1 1 1 1 1 1 1 1 1 1 1 1 1 1 1 1 1 1 1 1 1 1 1 1 1 1 1 1 1 1\n",
      " 1 1 1 1 1 1 1 1 1 1 1 1 1 1 1 1 1 1 1 1 1 1 1 1 0 0 0 0 0 0 0 0 0 0 0 0 0\n",
      " 0 0 0 0 0 0 0 0 0 0 0 0 0 0 0 0 0 0 0 0 0 0 0 0 0 0 0 0 0 0 0 0 0 0 0 0 0\n",
      " 0 0 0 0 0 0 0 0 0 0 0 0 0 0 0 0 0 0 0 0 0 0 0 0 0 0 0 0 0 0 0 0 0 0 0 0 0\n",
      " 0 0 0 0 0 0 0 0 0 0 0 0 0 0 0 0 0 0 0 0 0 0 0 0 0 0 0 0 0 0 0 0 0 0 0 0 0\n",
      " 0 0 0 0 0 0 0 0 0 0 0 0 0 0 0 0 0 0 0 0 0 0 0 0 0 0 0 0 0 0 0 0 0 0 0 0 0\n",
      " 0 0 0 0 0 0 0 0 0 0 0 0 0 0 0 0 0 0 0 0 0 0 0 0 0 0 0 0 0 0 0 0 0 0 0 0 0\n",
      " 0 0 0 0 0 0 0 0 0 0 0 0 0 0 0 0 0 0 0 0 0 0 0 0 0 0 0 0 0 0 0 0 0 0 0 0 0\n",
      " 0 0 0 0 0 0 0 0 0 0 0 0 0 0 0 0 0 0 0 0 0 0 0 0 0 0 0 0 0 0 0 0 0 0 0 0 0\n",
      " 0 0 0 0 0 0 0 0 0 0 0 0 0 0 0 0 0 0 0 0 0 0 0 0 0 0 0 0 0 0 0 0 0 0 0 0 0\n",
      " 0 0 0 0]\n"
     ]
    }
   ],
   "source": [
    "import numpy as np\n",
    "import pandas as pd\n",
    "\n",
    "# Read the glaucoma dataset\n",
    "dataset = pd.read_csv('GlaucomaDataset485Subjects.csv')\n",
    "\n",
    "# Choose the inpedendent variables with X and dependent variable with y\n",
    "features = []\n",
    "features = dataset.iloc[:, 1:9].values\n",
    "\n",
    "classifications = []\n",
    "classifications = dataset.iloc[:, 9].values\n",
    "\n",
    "print(\"Data Set\")\n",
    "print(\"input data: \")\n",
    "print(features)\n",
    "print(\"output data: \")\n",
    "print(classifications)"
   ]
  },
  {
   "cell_type": "code",
   "execution_count": 80,
   "id": "82785a70-d614-46dc-b76c-d79ab9554ae2",
   "metadata": {},
   "outputs": [
    {
     "name": "stdout",
     "output_type": "stream",
     "text": [
      "Epoch 1/10\n",
      "13/13 [==============================] - 0s 6ms/step - loss: 57046.8086 - accuracy: 0.5644 - val_loss: 3.9986e-11 - val_accuracy: 1.0000\n",
      "Epoch 2/10\n",
      "13/13 [==============================] - 0s 2ms/step - loss: 33170.6680 - accuracy: 0.5541 - val_loss: 10182.4189 - val_accuracy: 0.0515\n",
      "Epoch 3/10\n",
      "13/13 [==============================] - 0s 2ms/step - loss: 2864.9983 - accuracy: 0.5103 - val_loss: 0.8586 - val_accuracy: 0.9381\n",
      "Epoch 4/10\n",
      "13/13 [==============================] - 0s 2ms/step - loss: 0.7680 - accuracy: 0.5335 - val_loss: 0.6468 - val_accuracy: 0.9794\n",
      "Epoch 5/10\n",
      "13/13 [==============================] - 0s 2ms/step - loss: 0.6952 - accuracy: 0.5515 - val_loss: 0.6075 - val_accuracy: 1.0000\n",
      "Epoch 6/10\n",
      "13/13 [==============================] - 0s 2ms/step - loss: 0.6967 - accuracy: 0.5567 - val_loss: 0.6061 - val_accuracy: 1.0000\n",
      "Epoch 7/10\n",
      "13/13 [==============================] - 0s 2ms/step - loss: 0.6861 - accuracy: 0.5567 - val_loss: 0.6047 - val_accuracy: 0.9897\n",
      "Epoch 8/10\n",
      "13/13 [==============================] - 0s 2ms/step - loss: 0.6858 - accuracy: 0.5541 - val_loss: 0.6098 - val_accuracy: 0.9897\n",
      "Epoch 9/10\n",
      "13/13 [==============================] - 0s 2ms/step - loss: 0.6836 - accuracy: 0.5567 - val_loss: 0.6109 - val_accuracy: 0.9897\n",
      "Epoch 10/10\n",
      "13/13 [==============================] - 0s 2ms/step - loss: 0.7052 - accuracy: 0.5438 - val_loss: 0.6177 - val_accuracy: 0.9794\n",
      "16/16 [==============================] - 0s 529us/step - loss: 0.6729 - accuracy: 0.6371\n",
      "Model Accuracy: 63.71%\n"
     ]
    }
   ],
   "source": [
    "from keras.models import Sequential\n",
    "from keras.layers import Dense\n",
    "from keras.optimizers.legacy import Adam\n",
    "\n",
    "# Initialize the model\n",
    "model = Sequential()\n",
    "\n",
    "# Add 1 dense layer with 8 input features and a ReLU activation function\n",
    "model.add(Dense(16, input_dim=8, activation='relu'))\n",
    "\n",
    "# Add (hidden) dense layers with ReLU activation function\n",
    "model.add(Dense(8, activation='relu'))\n",
    "model.add(Dense(8, activation='relu'))\n",
    "model.add(Dense(8, activation='relu'))\n",
    "model.add(Dense(8, activation='relu'))\n",
    "\n",
    "# Add the output layer with 1 unit and a sigmoid activation function\n",
    "model.add(Dense(1, activation='sigmoid'))\n",
    "\n",
    "# Compile the model\n",
    "model.compile(loss='binary_crossentropy', optimizer=Adam(learning_rate=0.01), metrics=['accuracy'])\n",
    "\n",
    "# Train the model weights with the glaucoma data\n",
    "model.fit(features, classifications, epochs=10, batch_size=32, validation_split=0.2)\n",
    "\n",
    "# Evaluate the model's training and validation accuracy\n",
    "loss, accuracy = model.evaluate(features, classifications)\n",
    "print(f'Model Accuracy: {accuracy * 100:.2f}%')"
   ]
  },
  {
   "cell_type": "code",
   "execution_count": null,
   "id": "71c7e456-82a8-49e4-b6f0-5a92dc083797",
   "metadata": {},
   "outputs": [],
   "source": []
  }
 ],
 "metadata": {
  "kernelspec": {
   "display_name": "Python 3 (ipykernel)",
   "language": "python",
   "name": "python3"
  },
  "language_info": {
   "codemirror_mode": {
    "name": "ipython",
    "version": 3
   },
   "file_extension": ".py",
   "mimetype": "text/x-python",
   "name": "python",
   "nbconvert_exporter": "python",
   "pygments_lexer": "ipython3",
   "version": "3.9.6"
  }
 },
 "nbformat": 4,
 "nbformat_minor": 5
}
